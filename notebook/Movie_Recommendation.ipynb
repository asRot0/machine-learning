{
 "cells": [
  {
   "cell_type": "markdown",
   "metadata": {},
   "source": [
    "# Movie Recommendation"
   ]
  },
  {
   "cell_type": "code",
   "execution_count": 1,
   "metadata": {},
   "outputs": [],
   "source": [
    "import pandas as pd\n",
    "import numpy as np\n",
    "credits_df = pd.read_csv(\"tmdb_5000_credits.csv\")\n",
    "movies_df = pd.read_csv(\"tmdb_5000_movies.csv\")"
   ]
  },
  {
   "cell_type": "code",
   "execution_count": 2,
   "metadata": {
    "colab": {
     "base_uri": "https://localhost:8080/"
    },
    "executionInfo": {
     "elapsed": 31,
     "status": "ok",
     "timestamp": 1647881924733,
     "user": {
      "displayName": "Smritika Sadhukhan",
      "photoUrl": "https://lh3.googleusercontent.com/a-/AOh14GjFyuV5COtwkXdzCpr25rP8gKKP7KNnqb6uzu_4=s64",
      "userId": "07878556883244646606"
     },
     "user_tz": -330
    },
    "id": "EnCuy9SccBiB",
    "outputId": "c2db9e87-f639-4733-cd90-18b30a6a2010"
   },
   "outputs": [
    {
     "name": "stdout",
     "output_type": "stream",
     "text": [
      "(4803, 20)\n"
     ]
    }
   ],
   "source": [
    "print(movies_df.shape)"
   ]
  },
  {
   "cell_type": "code",
   "execution_count": 3,
   "metadata": {
    "colab": {
     "base_uri": "https://localhost:8080/",
     "height": 367
    },
    "executionInfo": {
     "elapsed": 29,
     "status": "ok",
     "timestamp": 1647881924735,
     "user": {
      "displayName": "Smritika Sadhukhan",
      "photoUrl": "https://lh3.googleusercontent.com/a-/AOh14GjFyuV5COtwkXdzCpr25rP8gKKP7KNnqb6uzu_4=s64",
      "userId": "07878556883244646606"
     },
     "user_tz": -330
    },
    "id": "SR-ngcClZ_D0",
    "outputId": "b243dbed-31d7-466f-98b1-88cab70234ff"
   },
   "outputs": [
    {
     "data": {
      "text/html": [
       "<div>\n",
       "<style scoped>\n",
       "    .dataframe tbody tr th:only-of-type {\n",
       "        vertical-align: middle;\n",
       "    }\n",
       "\n",
       "    .dataframe tbody tr th {\n",
       "        vertical-align: top;\n",
       "    }\n",
       "\n",
       "    .dataframe thead th {\n",
       "        text-align: right;\n",
       "    }\n",
       "</style>\n",
       "<table border=\"1\" class=\"dataframe\">\n",
       "  <thead>\n",
       "    <tr style=\"text-align: right;\">\n",
       "      <th></th>\n",
       "      <th>budget</th>\n",
       "      <th>genres</th>\n",
       "      <th>homepage</th>\n",
       "      <th>id</th>\n",
       "      <th>keywords</th>\n",
       "      <th>original_language</th>\n",
       "      <th>original_title</th>\n",
       "      <th>overview</th>\n",
       "      <th>popularity</th>\n",
       "      <th>production_companies</th>\n",
       "      <th>production_countries</th>\n",
       "      <th>release_date</th>\n",
       "      <th>revenue</th>\n",
       "      <th>runtime</th>\n",
       "      <th>spoken_languages</th>\n",
       "      <th>status</th>\n",
       "      <th>tagline</th>\n",
       "      <th>title</th>\n",
       "      <th>vote_average</th>\n",
       "      <th>vote_count</th>\n",
       "    </tr>\n",
       "  </thead>\n",
       "  <tbody>\n",
       "    <tr>\n",
       "      <th>0</th>\n",
       "      <td>237000000</td>\n",
       "      <td>[{\"id\": 28, \"name\": \"Action\"}, {\"id\": 12, \"nam...</td>\n",
       "      <td>http://www.avatarmovie.com/</td>\n",
       "      <td>19995</td>\n",
       "      <td>[{\"id\": 1463, \"name\": \"culture clash\"}, {\"id\":...</td>\n",
       "      <td>en</td>\n",
       "      <td>Avatar</td>\n",
       "      <td>In the 22nd century, a paraplegic Marine is di...</td>\n",
       "      <td>150.437577</td>\n",
       "      <td>[{\"name\": \"Ingenious Film Partners\", \"id\": 289...</td>\n",
       "      <td>[{\"iso_3166_1\": \"US\", \"name\": \"United States o...</td>\n",
       "      <td>2009-12-10</td>\n",
       "      <td>2787965087</td>\n",
       "      <td>162.0</td>\n",
       "      <td>[{\"iso_639_1\": \"en\", \"name\": \"English\"}, {\"iso...</td>\n",
       "      <td>Released</td>\n",
       "      <td>Enter the World of Pandora.</td>\n",
       "      <td>Avatar</td>\n",
       "      <td>7.2</td>\n",
       "      <td>11800</td>\n",
       "    </tr>\n",
       "    <tr>\n",
       "      <th>1</th>\n",
       "      <td>300000000</td>\n",
       "      <td>[{\"id\": 12, \"name\": \"Adventure\"}, {\"id\": 14, \"...</td>\n",
       "      <td>http://disney.go.com/disneypictures/pirates/</td>\n",
       "      <td>285</td>\n",
       "      <td>[{\"id\": 270, \"name\": \"ocean\"}, {\"id\": 726, \"na...</td>\n",
       "      <td>en</td>\n",
       "      <td>Pirates of the Caribbean: At World's End</td>\n",
       "      <td>Captain Barbossa, long believed to be dead, ha...</td>\n",
       "      <td>139.082615</td>\n",
       "      <td>[{\"name\": \"Walt Disney Pictures\", \"id\": 2}, {\"...</td>\n",
       "      <td>[{\"iso_3166_1\": \"US\", \"name\": \"United States o...</td>\n",
       "      <td>2007-05-19</td>\n",
       "      <td>961000000</td>\n",
       "      <td>169.0</td>\n",
       "      <td>[{\"iso_639_1\": \"en\", \"name\": \"English\"}]</td>\n",
       "      <td>Released</td>\n",
       "      <td>At the end of the world, the adventure begins.</td>\n",
       "      <td>Pirates of the Caribbean: At World's End</td>\n",
       "      <td>6.9</td>\n",
       "      <td>4500</td>\n",
       "    </tr>\n",
       "  </tbody>\n",
       "</table>\n",
       "</div>"
      ],
      "text/plain": [
       "      budget                                             genres  \\\n",
       "0  237000000  [{\"id\": 28, \"name\": \"Action\"}, {\"id\": 12, \"nam...   \n",
       "1  300000000  [{\"id\": 12, \"name\": \"Adventure\"}, {\"id\": 14, \"...   \n",
       "\n",
       "                                       homepage     id  \\\n",
       "0                   http://www.avatarmovie.com/  19995   \n",
       "1  http://disney.go.com/disneypictures/pirates/    285   \n",
       "\n",
       "                                            keywords original_language  \\\n",
       "0  [{\"id\": 1463, \"name\": \"culture clash\"}, {\"id\":...                en   \n",
       "1  [{\"id\": 270, \"name\": \"ocean\"}, {\"id\": 726, \"na...                en   \n",
       "\n",
       "                             original_title  \\\n",
       "0                                    Avatar   \n",
       "1  Pirates of the Caribbean: At World's End   \n",
       "\n",
       "                                            overview  popularity  \\\n",
       "0  In the 22nd century, a paraplegic Marine is di...  150.437577   \n",
       "1  Captain Barbossa, long believed to be dead, ha...  139.082615   \n",
       "\n",
       "                                production_companies  \\\n",
       "0  [{\"name\": \"Ingenious Film Partners\", \"id\": 289...   \n",
       "1  [{\"name\": \"Walt Disney Pictures\", \"id\": 2}, {\"...   \n",
       "\n",
       "                                production_countries release_date     revenue  \\\n",
       "0  [{\"iso_3166_1\": \"US\", \"name\": \"United States o...   2009-12-10  2787965087   \n",
       "1  [{\"iso_3166_1\": \"US\", \"name\": \"United States o...   2007-05-19   961000000   \n",
       "\n",
       "   runtime                                   spoken_languages    status  \\\n",
       "0    162.0  [{\"iso_639_1\": \"en\", \"name\": \"English\"}, {\"iso...  Released   \n",
       "1    169.0           [{\"iso_639_1\": \"en\", \"name\": \"English\"}]  Released   \n",
       "\n",
       "                                          tagline  \\\n",
       "0                     Enter the World of Pandora.   \n",
       "1  At the end of the world, the adventure begins.   \n",
       "\n",
       "                                      title  vote_average  vote_count  \n",
       "0                                    Avatar           7.2       11800  \n",
       "1  Pirates of the Caribbean: At World's End           6.9        4500  "
      ]
     },
     "execution_count": 3,
     "metadata": {},
     "output_type": "execute_result"
    }
   ],
   "source": [
    "movies_df.head(2)"
   ]
  },
  {
   "cell_type": "code",
   "execution_count": 4,
   "metadata": {
    "colab": {
     "base_uri": "https://localhost:8080/",
     "height": 206
    },
    "executionInfo": {
     "elapsed": 28,
     "status": "ok",
     "timestamp": 1647881924736,
     "user": {
      "displayName": "Smritika Sadhukhan",
      "photoUrl": "https://lh3.googleusercontent.com/a-/AOh14GjFyuV5COtwkXdzCpr25rP8gKKP7KNnqb6uzu_4=s64",
      "userId": "07878556883244646606"
     },
     "user_tz": -330
    },
    "id": "PGQjF7Y8Z_XL",
    "outputId": "79be289e-a031-4bff-f7bc-d1f11156db08"
   },
   "outputs": [
    {
     "data": {
      "text/html": [
       "<div>\n",
       "<style scoped>\n",
       "    .dataframe tbody tr th:only-of-type {\n",
       "        vertical-align: middle;\n",
       "    }\n",
       "\n",
       "    .dataframe tbody tr th {\n",
       "        vertical-align: top;\n",
       "    }\n",
       "\n",
       "    .dataframe thead th {\n",
       "        text-align: right;\n",
       "    }\n",
       "</style>\n",
       "<table border=\"1\" class=\"dataframe\">\n",
       "  <thead>\n",
       "    <tr style=\"text-align: right;\">\n",
       "      <th></th>\n",
       "      <th>movie_id</th>\n",
       "      <th>title</th>\n",
       "      <th>cast</th>\n",
       "      <th>crew</th>\n",
       "    </tr>\n",
       "  </thead>\n",
       "  <tbody>\n",
       "    <tr>\n",
       "      <th>0</th>\n",
       "      <td>19995</td>\n",
       "      <td>Avatar</td>\n",
       "      <td>[{\"cast_id\": 242, \"character\": \"Jake Sully\", \"...</td>\n",
       "      <td>[{\"credit_id\": \"52fe48009251416c750aca23\", \"de...</td>\n",
       "    </tr>\n",
       "    <tr>\n",
       "      <th>1</th>\n",
       "      <td>285</td>\n",
       "      <td>Pirates of the Caribbean: At World's End</td>\n",
       "      <td>[{\"cast_id\": 4, \"character\": \"Captain Jack Spa...</td>\n",
       "      <td>[{\"credit_id\": \"52fe4232c3a36847f800b579\", \"de...</td>\n",
       "    </tr>\n",
       "    <tr>\n",
       "      <th>2</th>\n",
       "      <td>206647</td>\n",
       "      <td>Spectre</td>\n",
       "      <td>[{\"cast_id\": 1, \"character\": \"James Bond\", \"cr...</td>\n",
       "      <td>[{\"credit_id\": \"54805967c3a36829b5002c41\", \"de...</td>\n",
       "    </tr>\n",
       "    <tr>\n",
       "      <th>3</th>\n",
       "      <td>49026</td>\n",
       "      <td>The Dark Knight Rises</td>\n",
       "      <td>[{\"cast_id\": 2, \"character\": \"Bruce Wayne / Ba...</td>\n",
       "      <td>[{\"credit_id\": \"52fe4781c3a36847f81398c3\", \"de...</td>\n",
       "    </tr>\n",
       "    <tr>\n",
       "      <th>4</th>\n",
       "      <td>49529</td>\n",
       "      <td>John Carter</td>\n",
       "      <td>[{\"cast_id\": 5, \"character\": \"John Carter\", \"c...</td>\n",
       "      <td>[{\"credit_id\": \"52fe479ac3a36847f813eaa3\", \"de...</td>\n",
       "    </tr>\n",
       "  </tbody>\n",
       "</table>\n",
       "</div>"
      ],
      "text/plain": [
       "   movie_id                                     title  \\\n",
       "0     19995                                    Avatar   \n",
       "1       285  Pirates of the Caribbean: At World's End   \n",
       "2    206647                                   Spectre   \n",
       "3     49026                     The Dark Knight Rises   \n",
       "4     49529                               John Carter   \n",
       "\n",
       "                                                cast  \\\n",
       "0  [{\"cast_id\": 242, \"character\": \"Jake Sully\", \"...   \n",
       "1  [{\"cast_id\": 4, \"character\": \"Captain Jack Spa...   \n",
       "2  [{\"cast_id\": 1, \"character\": \"James Bond\", \"cr...   \n",
       "3  [{\"cast_id\": 2, \"character\": \"Bruce Wayne / Ba...   \n",
       "4  [{\"cast_id\": 5, \"character\": \"John Carter\", \"c...   \n",
       "\n",
       "                                                crew  \n",
       "0  [{\"credit_id\": \"52fe48009251416c750aca23\", \"de...  \n",
       "1  [{\"credit_id\": \"52fe4232c3a36847f800b579\", \"de...  \n",
       "2  [{\"credit_id\": \"54805967c3a36829b5002c41\", \"de...  \n",
       "3  [{\"credit_id\": \"52fe4781c3a36847f81398c3\", \"de...  \n",
       "4  [{\"credit_id\": \"52fe479ac3a36847f813eaa3\", \"de...  "
      ]
     },
     "execution_count": 4,
     "metadata": {},
     "output_type": "execute_result"
    }
   ],
   "source": [
    "credits_df.head()"
   ]
  },
  {
   "cell_type": "code",
   "execution_count": 5,
   "metadata": {},
   "outputs": [
    {
     "data": {
      "text/html": [
       "<div>\n",
       "<style scoped>\n",
       "    .dataframe tbody tr th:only-of-type {\n",
       "        vertical-align: middle;\n",
       "    }\n",
       "\n",
       "    .dataframe tbody tr th {\n",
       "        vertical-align: top;\n",
       "    }\n",
       "\n",
       "    .dataframe thead th {\n",
       "        text-align: right;\n",
       "    }\n",
       "</style>\n",
       "<table border=\"1\" class=\"dataframe\">\n",
       "  <thead>\n",
       "    <tr style=\"text-align: right;\">\n",
       "      <th></th>\n",
       "      <th>id</th>\n",
       "      <th>title_movie</th>\n",
       "      <th>cast</th>\n",
       "      <th>crew</th>\n",
       "    </tr>\n",
       "  </thead>\n",
       "  <tbody>\n",
       "    <tr>\n",
       "      <th>0</th>\n",
       "      <td>19995</td>\n",
       "      <td>Avatar</td>\n",
       "      <td>[{\"cast_id\": 242, \"character\": \"Jake Sully\", \"...</td>\n",
       "      <td>[{\"credit_id\": \"52fe48009251416c750aca23\", \"de...</td>\n",
       "    </tr>\n",
       "    <tr>\n",
       "      <th>1</th>\n",
       "      <td>285</td>\n",
       "      <td>Pirates of the Caribbean: At World's End</td>\n",
       "      <td>[{\"cast_id\": 4, \"character\": \"Captain Jack Spa...</td>\n",
       "      <td>[{\"credit_id\": \"52fe4232c3a36847f800b579\", \"de...</td>\n",
       "    </tr>\n",
       "    <tr>\n",
       "      <th>2</th>\n",
       "      <td>206647</td>\n",
       "      <td>Spectre</td>\n",
       "      <td>[{\"cast_id\": 1, \"character\": \"James Bond\", \"cr...</td>\n",
       "      <td>[{\"credit_id\": \"54805967c3a36829b5002c41\", \"de...</td>\n",
       "    </tr>\n",
       "    <tr>\n",
       "      <th>3</th>\n",
       "      <td>49026</td>\n",
       "      <td>The Dark Knight Rises</td>\n",
       "      <td>[{\"cast_id\": 2, \"character\": \"Bruce Wayne / Ba...</td>\n",
       "      <td>[{\"credit_id\": \"52fe4781c3a36847f81398c3\", \"de...</td>\n",
       "    </tr>\n",
       "    <tr>\n",
       "      <th>4</th>\n",
       "      <td>49529</td>\n",
       "      <td>John Carter</td>\n",
       "      <td>[{\"cast_id\": 5, \"character\": \"John Carter\", \"c...</td>\n",
       "      <td>[{\"credit_id\": \"52fe479ac3a36847f813eaa3\", \"de...</td>\n",
       "    </tr>\n",
       "  </tbody>\n",
       "</table>\n",
       "</div>"
      ],
      "text/plain": [
       "       id                               title_movie  \\\n",
       "0   19995                                    Avatar   \n",
       "1     285  Pirates of the Caribbean: At World's End   \n",
       "2  206647                                   Spectre   \n",
       "3   49026                     The Dark Knight Rises   \n",
       "4   49529                               John Carter   \n",
       "\n",
       "                                                cast  \\\n",
       "0  [{\"cast_id\": 242, \"character\": \"Jake Sully\", \"...   \n",
       "1  [{\"cast_id\": 4, \"character\": \"Captain Jack Spa...   \n",
       "2  [{\"cast_id\": 1, \"character\": \"James Bond\", \"cr...   \n",
       "3  [{\"cast_id\": 2, \"character\": \"Bruce Wayne / Ba...   \n",
       "4  [{\"cast_id\": 5, \"character\": \"John Carter\", \"c...   \n",
       "\n",
       "                                                crew  \n",
       "0  [{\"credit_id\": \"52fe48009251416c750aca23\", \"de...  \n",
       "1  [{\"credit_id\": \"52fe4232c3a36847f800b579\", \"de...  \n",
       "2  [{\"credit_id\": \"54805967c3a36829b5002c41\", \"de...  \n",
       "3  [{\"credit_id\": \"52fe4781c3a36847f81398c3\", \"de...  \n",
       "4  [{\"credit_id\": \"52fe479ac3a36847f813eaa3\", \"de...  "
      ]
     },
     "execution_count": 5,
     "metadata": {},
     "output_type": "execute_result"
    }
   ],
   "source": [
    "credits_df.columns = ['id','title_movie','cast','crew']\n",
    "credits_df.head()"
   ]
  },
  {
   "cell_type": "code",
   "execution_count": 6,
   "metadata": {
    "id": "itMCDMTKaDWO"
   },
   "outputs": [],
   "source": [
    "movies_df = movies_df.merge(credits_df, on=\"id\")"
   ]
  },
  {
   "cell_type": "code",
   "execution_count": 7,
   "metadata": {
    "colab": {
     "base_uri": "https://localhost:8080/",
     "height": 396
    },
    "executionInfo": {
     "elapsed": 27,
     "status": "ok",
     "timestamp": 1647881924737,
     "user": {
      "displayName": "Smritika Sadhukhan",
      "photoUrl": "https://lh3.googleusercontent.com/a-/AOh14GjFyuV5COtwkXdzCpr25rP8gKKP7KNnqb6uzu_4=s64",
      "userId": "07878556883244646606"
     },
     "user_tz": -330
    },
    "id": "J72w5bMAaGmd",
    "outputId": "9bd59ffe-40fc-4ddc-bdd5-b1d8b3bf73db"
   },
   "outputs": [
    {
     "data": {
      "text/html": [
       "<div>\n",
       "<style scoped>\n",
       "    .dataframe tbody tr th:only-of-type {\n",
       "        vertical-align: middle;\n",
       "    }\n",
       "\n",
       "    .dataframe tbody tr th {\n",
       "        vertical-align: top;\n",
       "    }\n",
       "\n",
       "    .dataframe thead th {\n",
       "        text-align: right;\n",
       "    }\n",
       "</style>\n",
       "<table border=\"1\" class=\"dataframe\">\n",
       "  <thead>\n",
       "    <tr style=\"text-align: right;\">\n",
       "      <th></th>\n",
       "      <th>budget</th>\n",
       "      <th>genres</th>\n",
       "      <th>homepage</th>\n",
       "      <th>id</th>\n",
       "      <th>keywords</th>\n",
       "      <th>original_language</th>\n",
       "      <th>original_title</th>\n",
       "      <th>overview</th>\n",
       "      <th>popularity</th>\n",
       "      <th>production_companies</th>\n",
       "      <th>...</th>\n",
       "      <th>runtime</th>\n",
       "      <th>spoken_languages</th>\n",
       "      <th>status</th>\n",
       "      <th>tagline</th>\n",
       "      <th>title</th>\n",
       "      <th>vote_average</th>\n",
       "      <th>vote_count</th>\n",
       "      <th>title_movie</th>\n",
       "      <th>cast</th>\n",
       "      <th>crew</th>\n",
       "    </tr>\n",
       "  </thead>\n",
       "  <tbody>\n",
       "    <tr>\n",
       "      <th>0</th>\n",
       "      <td>237000000</td>\n",
       "      <td>[{\"id\": 28, \"name\": \"Action\"}, {\"id\": 12, \"nam...</td>\n",
       "      <td>http://www.avatarmovie.com/</td>\n",
       "      <td>19995</td>\n",
       "      <td>[{\"id\": 1463, \"name\": \"culture clash\"}, {\"id\":...</td>\n",
       "      <td>en</td>\n",
       "      <td>Avatar</td>\n",
       "      <td>In the 22nd century, a paraplegic Marine is di...</td>\n",
       "      <td>150.437577</td>\n",
       "      <td>[{\"name\": \"Ingenious Film Partners\", \"id\": 289...</td>\n",
       "      <td>...</td>\n",
       "      <td>162.0</td>\n",
       "      <td>[{\"iso_639_1\": \"en\", \"name\": \"English\"}, {\"iso...</td>\n",
       "      <td>Released</td>\n",
       "      <td>Enter the World of Pandora.</td>\n",
       "      <td>Avatar</td>\n",
       "      <td>7.2</td>\n",
       "      <td>11800</td>\n",
       "      <td>Avatar</td>\n",
       "      <td>[{\"cast_id\": 242, \"character\": \"Jake Sully\", \"...</td>\n",
       "      <td>[{\"credit_id\": \"52fe48009251416c750aca23\", \"de...</td>\n",
       "    </tr>\n",
       "    <tr>\n",
       "      <th>1</th>\n",
       "      <td>300000000</td>\n",
       "      <td>[{\"id\": 12, \"name\": \"Adventure\"}, {\"id\": 14, \"...</td>\n",
       "      <td>http://disney.go.com/disneypictures/pirates/</td>\n",
       "      <td>285</td>\n",
       "      <td>[{\"id\": 270, \"name\": \"ocean\"}, {\"id\": 726, \"na...</td>\n",
       "      <td>en</td>\n",
       "      <td>Pirates of the Caribbean: At World's End</td>\n",
       "      <td>Captain Barbossa, long believed to be dead, ha...</td>\n",
       "      <td>139.082615</td>\n",
       "      <td>[{\"name\": \"Walt Disney Pictures\", \"id\": 2}, {\"...</td>\n",
       "      <td>...</td>\n",
       "      <td>169.0</td>\n",
       "      <td>[{\"iso_639_1\": \"en\", \"name\": \"English\"}]</td>\n",
       "      <td>Released</td>\n",
       "      <td>At the end of the world, the adventure begins.</td>\n",
       "      <td>Pirates of the Caribbean: At World's End</td>\n",
       "      <td>6.9</td>\n",
       "      <td>4500</td>\n",
       "      <td>Pirates of the Caribbean: At World's End</td>\n",
       "      <td>[{\"cast_id\": 4, \"character\": \"Captain Jack Spa...</td>\n",
       "      <td>[{\"credit_id\": \"52fe4232c3a36847f800b579\", \"de...</td>\n",
       "    </tr>\n",
       "  </tbody>\n",
       "</table>\n",
       "<p>2 rows × 23 columns</p>\n",
       "</div>"
      ],
      "text/plain": [
       "      budget                                             genres  \\\n",
       "0  237000000  [{\"id\": 28, \"name\": \"Action\"}, {\"id\": 12, \"nam...   \n",
       "1  300000000  [{\"id\": 12, \"name\": \"Adventure\"}, {\"id\": 14, \"...   \n",
       "\n",
       "                                       homepage     id  \\\n",
       "0                   http://www.avatarmovie.com/  19995   \n",
       "1  http://disney.go.com/disneypictures/pirates/    285   \n",
       "\n",
       "                                            keywords original_language  \\\n",
       "0  [{\"id\": 1463, \"name\": \"culture clash\"}, {\"id\":...                en   \n",
       "1  [{\"id\": 270, \"name\": \"ocean\"}, {\"id\": 726, \"na...                en   \n",
       "\n",
       "                             original_title  \\\n",
       "0                                    Avatar   \n",
       "1  Pirates of the Caribbean: At World's End   \n",
       "\n",
       "                                            overview  popularity  \\\n",
       "0  In the 22nd century, a paraplegic Marine is di...  150.437577   \n",
       "1  Captain Barbossa, long believed to be dead, ha...  139.082615   \n",
       "\n",
       "                                production_companies  ... runtime  \\\n",
       "0  [{\"name\": \"Ingenious Film Partners\", \"id\": 289...  ...   162.0   \n",
       "1  [{\"name\": \"Walt Disney Pictures\", \"id\": 2}, {\"...  ...   169.0   \n",
       "\n",
       "                                    spoken_languages    status  \\\n",
       "0  [{\"iso_639_1\": \"en\", \"name\": \"English\"}, {\"iso...  Released   \n",
       "1           [{\"iso_639_1\": \"en\", \"name\": \"English\"}]  Released   \n",
       "\n",
       "                                          tagline  \\\n",
       "0                     Enter the World of Pandora.   \n",
       "1  At the end of the world, the adventure begins.   \n",
       "\n",
       "                                      title vote_average vote_count  \\\n",
       "0                                    Avatar          7.2      11800   \n",
       "1  Pirates of the Caribbean: At World's End          6.9       4500   \n",
       "\n",
       "                                title_movie  \\\n",
       "0                                    Avatar   \n",
       "1  Pirates of the Caribbean: At World's End   \n",
       "\n",
       "                                                cast  \\\n",
       "0  [{\"cast_id\": 242, \"character\": \"Jake Sully\", \"...   \n",
       "1  [{\"cast_id\": 4, \"character\": \"Captain Jack Spa...   \n",
       "\n",
       "                                                crew  \n",
       "0  [{\"credit_id\": \"52fe48009251416c750aca23\", \"de...  \n",
       "1  [{\"credit_id\": \"52fe4232c3a36847f800b579\", \"de...  \n",
       "\n",
       "[2 rows x 23 columns]"
      ]
     },
     "execution_count": 7,
     "metadata": {},
     "output_type": "execute_result"
    }
   ],
   "source": [
    "movies_df.head(2)"
   ]
  },
  {
   "cell_type": "code",
   "execution_count": 8,
   "metadata": {
    "colab": {
     "base_uri": "https://localhost:8080/",
     "height": 476
    },
    "executionInfo": {
     "elapsed": 22,
     "status": "ok",
     "timestamp": 1647881924739,
     "user": {
      "displayName": "Smritika Sadhukhan",
      "photoUrl": "https://lh3.googleusercontent.com/a-/AOh14GjFyuV5COtwkXdzCpr25rP8gKKP7KNnqb6uzu_4=s64",
      "userId": "07878556883244646606"
     },
     "user_tz": -330
    },
    "id": "dy499HTOaHOW",
    "outputId": "82d5aafa-a810-4b8a-c89a-cc6a7e49de94"
   },
   "outputs": [
    {
     "data": {
      "text/html": [
       "<div>\n",
       "<style scoped>\n",
       "    .dataframe tbody tr th:only-of-type {\n",
       "        vertical-align: middle;\n",
       "    }\n",
       "\n",
       "    .dataframe tbody tr th {\n",
       "        vertical-align: top;\n",
       "    }\n",
       "\n",
       "    .dataframe thead th {\n",
       "        text-align: right;\n",
       "    }\n",
       "</style>\n",
       "<table border=\"1\" class=\"dataframe\">\n",
       "  <thead>\n",
       "    <tr style=\"text-align: right;\">\n",
       "      <th></th>\n",
       "      <th>title_movie</th>\n",
       "      <th>cast</th>\n",
       "      <th>crew</th>\n",
       "      <th>keywords</th>\n",
       "      <th>genres</th>\n",
       "    </tr>\n",
       "  </thead>\n",
       "  <tbody>\n",
       "    <tr>\n",
       "      <th>0</th>\n",
       "      <td>Avatar</td>\n",
       "      <td>[{\"cast_id\": 242, \"character\": \"Jake Sully\", \"...</td>\n",
       "      <td>[{\"credit_id\": \"52fe48009251416c750aca23\", \"de...</td>\n",
       "      <td>[{\"id\": 1463, \"name\": \"culture clash\"}, {\"id\":...</td>\n",
       "      <td>[{\"id\": 28, \"name\": \"Action\"}, {\"id\": 12, \"nam...</td>\n",
       "    </tr>\n",
       "    <tr>\n",
       "      <th>1</th>\n",
       "      <td>Pirates of the Caribbean: At World's End</td>\n",
       "      <td>[{\"cast_id\": 4, \"character\": \"Captain Jack Spa...</td>\n",
       "      <td>[{\"credit_id\": \"52fe4232c3a36847f800b579\", \"de...</td>\n",
       "      <td>[{\"id\": 270, \"name\": \"ocean\"}, {\"id\": 726, \"na...</td>\n",
       "      <td>[{\"id\": 12, \"name\": \"Adventure\"}, {\"id\": 14, \"...</td>\n",
       "    </tr>\n",
       "    <tr>\n",
       "      <th>2</th>\n",
       "      <td>Spectre</td>\n",
       "      <td>[{\"cast_id\": 1, \"character\": \"James Bond\", \"cr...</td>\n",
       "      <td>[{\"credit_id\": \"54805967c3a36829b5002c41\", \"de...</td>\n",
       "      <td>[{\"id\": 470, \"name\": \"spy\"}, {\"id\": 818, \"name...</td>\n",
       "      <td>[{\"id\": 28, \"name\": \"Action\"}, {\"id\": 12, \"nam...</td>\n",
       "    </tr>\n",
       "    <tr>\n",
       "      <th>3</th>\n",
       "      <td>The Dark Knight Rises</td>\n",
       "      <td>[{\"cast_id\": 2, \"character\": \"Bruce Wayne / Ba...</td>\n",
       "      <td>[{\"credit_id\": \"52fe4781c3a36847f81398c3\", \"de...</td>\n",
       "      <td>[{\"id\": 849, \"name\": \"dc comics\"}, {\"id\": 853,...</td>\n",
       "      <td>[{\"id\": 28, \"name\": \"Action\"}, {\"id\": 80, \"nam...</td>\n",
       "    </tr>\n",
       "    <tr>\n",
       "      <th>4</th>\n",
       "      <td>John Carter</td>\n",
       "      <td>[{\"cast_id\": 5, \"character\": \"John Carter\", \"c...</td>\n",
       "      <td>[{\"credit_id\": \"52fe479ac3a36847f813eaa3\", \"de...</td>\n",
       "      <td>[{\"id\": 818, \"name\": \"based on novel\"}, {\"id\":...</td>\n",
       "      <td>[{\"id\": 28, \"name\": \"Action\"}, {\"id\": 12, \"nam...</td>\n",
       "    </tr>\n",
       "    <tr>\n",
       "      <th>5</th>\n",
       "      <td>Spider-Man 3</td>\n",
       "      <td>[{\"cast_id\": 30, \"character\": \"Peter Parker / ...</td>\n",
       "      <td>[{\"credit_id\": \"52fe4252c3a36847f80151a5\", \"de...</td>\n",
       "      <td>[{\"id\": 851, \"name\": \"dual identity\"}, {\"id\": ...</td>\n",
       "      <td>[{\"id\": 14, \"name\": \"Fantasy\"}, {\"id\": 28, \"na...</td>\n",
       "    </tr>\n",
       "    <tr>\n",
       "      <th>6</th>\n",
       "      <td>Tangled</td>\n",
       "      <td>[{\"cast_id\": 34, \"character\": \"Flynn Rider (vo...</td>\n",
       "      <td>[{\"credit_id\": \"52fe46db9251416c91062101\", \"de...</td>\n",
       "      <td>[{\"id\": 1562, \"name\": \"hostage\"}, {\"id\": 2343,...</td>\n",
       "      <td>[{\"id\": 16, \"name\": \"Animation\"}, {\"id\": 10751...</td>\n",
       "    </tr>\n",
       "    <tr>\n",
       "      <th>7</th>\n",
       "      <td>Avengers: Age of Ultron</td>\n",
       "      <td>[{\"cast_id\": 76, \"character\": \"Tony Stark / Ir...</td>\n",
       "      <td>[{\"credit_id\": \"55d5f7d4c3a3683e7e0016eb\", \"de...</td>\n",
       "      <td>[{\"id\": 8828, \"name\": \"marvel comic\"}, {\"id\": ...</td>\n",
       "      <td>[{\"id\": 28, \"name\": \"Action\"}, {\"id\": 12, \"nam...</td>\n",
       "    </tr>\n",
       "    <tr>\n",
       "      <th>8</th>\n",
       "      <td>Harry Potter and the Half-Blood Prince</td>\n",
       "      <td>[{\"cast_id\": 3, \"character\": \"Harry Potter\", \"...</td>\n",
       "      <td>[{\"credit_id\": \"52fe4273c3a36847f801fab1\", \"de...</td>\n",
       "      <td>[{\"id\": 616, \"name\": \"witch\"}, {\"id\": 2343, \"n...</td>\n",
       "      <td>[{\"id\": 12, \"name\": \"Adventure\"}, {\"id\": 14, \"...</td>\n",
       "    </tr>\n",
       "    <tr>\n",
       "      <th>9</th>\n",
       "      <td>Batman v Superman: Dawn of Justice</td>\n",
       "      <td>[{\"cast_id\": 18, \"character\": \"Bruce Wayne / B...</td>\n",
       "      <td>[{\"credit_id\": \"553bf23692514135c8002886\", \"de...</td>\n",
       "      <td>[{\"id\": 849, \"name\": \"dc comics\"}, {\"id\": 7002...</td>\n",
       "      <td>[{\"id\": 28, \"name\": \"Action\"}, {\"id\": 12, \"nam...</td>\n",
       "    </tr>\n",
       "  </tbody>\n",
       "</table>\n",
       "</div>"
      ],
      "text/plain": [
       "                                title_movie  \\\n",
       "0                                    Avatar   \n",
       "1  Pirates of the Caribbean: At World's End   \n",
       "2                                   Spectre   \n",
       "3                     The Dark Knight Rises   \n",
       "4                               John Carter   \n",
       "5                              Spider-Man 3   \n",
       "6                                   Tangled   \n",
       "7                   Avengers: Age of Ultron   \n",
       "8    Harry Potter and the Half-Blood Prince   \n",
       "9        Batman v Superman: Dawn of Justice   \n",
       "\n",
       "                                                cast  \\\n",
       "0  [{\"cast_id\": 242, \"character\": \"Jake Sully\", \"...   \n",
       "1  [{\"cast_id\": 4, \"character\": \"Captain Jack Spa...   \n",
       "2  [{\"cast_id\": 1, \"character\": \"James Bond\", \"cr...   \n",
       "3  [{\"cast_id\": 2, \"character\": \"Bruce Wayne / Ba...   \n",
       "4  [{\"cast_id\": 5, \"character\": \"John Carter\", \"c...   \n",
       "5  [{\"cast_id\": 30, \"character\": \"Peter Parker / ...   \n",
       "6  [{\"cast_id\": 34, \"character\": \"Flynn Rider (vo...   \n",
       "7  [{\"cast_id\": 76, \"character\": \"Tony Stark / Ir...   \n",
       "8  [{\"cast_id\": 3, \"character\": \"Harry Potter\", \"...   \n",
       "9  [{\"cast_id\": 18, \"character\": \"Bruce Wayne / B...   \n",
       "\n",
       "                                                crew  \\\n",
       "0  [{\"credit_id\": \"52fe48009251416c750aca23\", \"de...   \n",
       "1  [{\"credit_id\": \"52fe4232c3a36847f800b579\", \"de...   \n",
       "2  [{\"credit_id\": \"54805967c3a36829b5002c41\", \"de...   \n",
       "3  [{\"credit_id\": \"52fe4781c3a36847f81398c3\", \"de...   \n",
       "4  [{\"credit_id\": \"52fe479ac3a36847f813eaa3\", \"de...   \n",
       "5  [{\"credit_id\": \"52fe4252c3a36847f80151a5\", \"de...   \n",
       "6  [{\"credit_id\": \"52fe46db9251416c91062101\", \"de...   \n",
       "7  [{\"credit_id\": \"55d5f7d4c3a3683e7e0016eb\", \"de...   \n",
       "8  [{\"credit_id\": \"52fe4273c3a36847f801fab1\", \"de...   \n",
       "9  [{\"credit_id\": \"553bf23692514135c8002886\", \"de...   \n",
       "\n",
       "                                            keywords  \\\n",
       "0  [{\"id\": 1463, \"name\": \"culture clash\"}, {\"id\":...   \n",
       "1  [{\"id\": 270, \"name\": \"ocean\"}, {\"id\": 726, \"na...   \n",
       "2  [{\"id\": 470, \"name\": \"spy\"}, {\"id\": 818, \"name...   \n",
       "3  [{\"id\": 849, \"name\": \"dc comics\"}, {\"id\": 853,...   \n",
       "4  [{\"id\": 818, \"name\": \"based on novel\"}, {\"id\":...   \n",
       "5  [{\"id\": 851, \"name\": \"dual identity\"}, {\"id\": ...   \n",
       "6  [{\"id\": 1562, \"name\": \"hostage\"}, {\"id\": 2343,...   \n",
       "7  [{\"id\": 8828, \"name\": \"marvel comic\"}, {\"id\": ...   \n",
       "8  [{\"id\": 616, \"name\": \"witch\"}, {\"id\": 2343, \"n...   \n",
       "9  [{\"id\": 849, \"name\": \"dc comics\"}, {\"id\": 7002...   \n",
       "\n",
       "                                              genres  \n",
       "0  [{\"id\": 28, \"name\": \"Action\"}, {\"id\": 12, \"nam...  \n",
       "1  [{\"id\": 12, \"name\": \"Adventure\"}, {\"id\": 14, \"...  \n",
       "2  [{\"id\": 28, \"name\": \"Action\"}, {\"id\": 12, \"nam...  \n",
       "3  [{\"id\": 28, \"name\": \"Action\"}, {\"id\": 80, \"nam...  \n",
       "4  [{\"id\": 28, \"name\": \"Action\"}, {\"id\": 12, \"nam...  \n",
       "5  [{\"id\": 14, \"name\": \"Fantasy\"}, {\"id\": 28, \"na...  \n",
       "6  [{\"id\": 16, \"name\": \"Animation\"}, {\"id\": 10751...  \n",
       "7  [{\"id\": 28, \"name\": \"Action\"}, {\"id\": 12, \"nam...  \n",
       "8  [{\"id\": 12, \"name\": \"Adventure\"}, {\"id\": 14, \"...  \n",
       "9  [{\"id\": 28, \"name\": \"Action\"}, {\"id\": 12, \"nam...  "
      ]
     },
     "execution_count": 8,
     "metadata": {},
     "output_type": "execute_result"
    }
   ],
   "source": [
    "features = [\"title_movie\",\"cast\", \"crew\", \"keywords\", \"genres\"]\n",
    "\n",
    "\n",
    "movies_df[['title_movie',\"cast\", \"crew\", \"keywords\", \"genres\"]].head(10)"
   ]
  },
  {
   "cell_type": "code",
   "execution_count": 9,
   "metadata": {},
   "outputs": [
    {
     "name": "stdout",
     "output_type": "stream",
     "text": [
      "<class 'pandas.core.frame.DataFrame'>\n",
      "RangeIndex: 4803 entries, 0 to 4802\n",
      "Data columns (total 5 columns):\n",
      " #   Column       Non-Null Count  Dtype \n",
      "---  ------       --------------  ----- \n",
      " 0   title_movie  4803 non-null   object\n",
      " 1   cast         4803 non-null   object\n",
      " 2   crew         4803 non-null   object\n",
      " 3   keywords     4803 non-null   object\n",
      " 4   genres       4803 non-null   object\n",
      "dtypes: object(5)\n",
      "memory usage: 187.7+ KB\n"
     ]
    }
   ],
   "source": [
    "movies_df[[\"title_movie\",\"cast\", \"crew\", \"keywords\", \"genres\"]].info()"
   ]
  },
  {
   "cell_type": "code",
   "execution_count": 10,
   "metadata": {},
   "outputs": [],
   "source": [
    "import json\n",
    "list2=[]\n",
    "for  i in movies_df['keywords']:\n",
    "  list1 = []\n",
    "  i = json.loads(i)\n",
    "  for j in i[:3]:\n",
    "    list1.append(j['name'])\n",
    "  list2.append(list1)\n",
    "movies_df['keywords'] = list2\n",
    "\n",
    "list2 =[]\n",
    "for  i in movies_df['genres'].values:\n",
    "  list1 = []\n",
    "  i =json.loads(i)\n",
    "  for j in i[:3]:\n",
    "    list1.append(j['name'])\n",
    "  list2.append(list1)\n",
    "  # res = json.loads(i)\n",
    "movies_df['genres'] = list2\n"
   ]
  },
  {
   "cell_type": "code",
   "execution_count": 11,
   "metadata": {},
   "outputs": [
    {
     "data": {
      "text/html": [
       "<div>\n",
       "<style scoped>\n",
       "    .dataframe tbody tr th:only-of-type {\n",
       "        vertical-align: middle;\n",
       "    }\n",
       "\n",
       "    .dataframe tbody tr th {\n",
       "        vertical-align: top;\n",
       "    }\n",
       "\n",
       "    .dataframe thead th {\n",
       "        text-align: right;\n",
       "    }\n",
       "</style>\n",
       "<table border=\"1\" class=\"dataframe\">\n",
       "  <thead>\n",
       "    <tr style=\"text-align: right;\">\n",
       "      <th></th>\n",
       "      <th>title_movie</th>\n",
       "      <th>cast</th>\n",
       "      <th>crew</th>\n",
       "      <th>keywords</th>\n",
       "      <th>genres</th>\n",
       "    </tr>\n",
       "  </thead>\n",
       "  <tbody>\n",
       "    <tr>\n",
       "      <th>0</th>\n",
       "      <td>Avatar</td>\n",
       "      <td>[{\"cast_id\": 242, \"character\": \"Jake Sully\", \"...</td>\n",
       "      <td>[{\"credit_id\": \"52fe48009251416c750aca23\", \"de...</td>\n",
       "      <td>[culture clash, future, space war]</td>\n",
       "      <td>[Action, Adventure, Fantasy]</td>\n",
       "    </tr>\n",
       "    <tr>\n",
       "      <th>1</th>\n",
       "      <td>Pirates of the Caribbean: At World's End</td>\n",
       "      <td>[{\"cast_id\": 4, \"character\": \"Captain Jack Spa...</td>\n",
       "      <td>[{\"credit_id\": \"52fe4232c3a36847f800b579\", \"de...</td>\n",
       "      <td>[ocean, drug abuse, exotic island]</td>\n",
       "      <td>[Adventure, Fantasy, Action]</td>\n",
       "    </tr>\n",
       "    <tr>\n",
       "      <th>2</th>\n",
       "      <td>Spectre</td>\n",
       "      <td>[{\"cast_id\": 1, \"character\": \"James Bond\", \"cr...</td>\n",
       "      <td>[{\"credit_id\": \"54805967c3a36829b5002c41\", \"de...</td>\n",
       "      <td>[spy, based on novel, secret agent]</td>\n",
       "      <td>[Action, Adventure, Crime]</td>\n",
       "    </tr>\n",
       "    <tr>\n",
       "      <th>3</th>\n",
       "      <td>The Dark Knight Rises</td>\n",
       "      <td>[{\"cast_id\": 2, \"character\": \"Bruce Wayne / Ba...</td>\n",
       "      <td>[{\"credit_id\": \"52fe4781c3a36847f81398c3\", \"de...</td>\n",
       "      <td>[dc comics, crime fighter, terrorist]</td>\n",
       "      <td>[Action, Crime, Drama]</td>\n",
       "    </tr>\n",
       "    <tr>\n",
       "      <th>4</th>\n",
       "      <td>John Carter</td>\n",
       "      <td>[{\"cast_id\": 5, \"character\": \"John Carter\", \"c...</td>\n",
       "      <td>[{\"credit_id\": \"52fe479ac3a36847f813eaa3\", \"de...</td>\n",
       "      <td>[based on novel, mars, medallion]</td>\n",
       "      <td>[Action, Adventure, Science Fiction]</td>\n",
       "    </tr>\n",
       "  </tbody>\n",
       "</table>\n",
       "</div>"
      ],
      "text/plain": [
       "                                title_movie  \\\n",
       "0                                    Avatar   \n",
       "1  Pirates of the Caribbean: At World's End   \n",
       "2                                   Spectre   \n",
       "3                     The Dark Knight Rises   \n",
       "4                               John Carter   \n",
       "\n",
       "                                                cast  \\\n",
       "0  [{\"cast_id\": 242, \"character\": \"Jake Sully\", \"...   \n",
       "1  [{\"cast_id\": 4, \"character\": \"Captain Jack Spa...   \n",
       "2  [{\"cast_id\": 1, \"character\": \"James Bond\", \"cr...   \n",
       "3  [{\"cast_id\": 2, \"character\": \"Bruce Wayne / Ba...   \n",
       "4  [{\"cast_id\": 5, \"character\": \"John Carter\", \"c...   \n",
       "\n",
       "                                                crew  \\\n",
       "0  [{\"credit_id\": \"52fe48009251416c750aca23\", \"de...   \n",
       "1  [{\"credit_id\": \"52fe4232c3a36847f800b579\", \"de...   \n",
       "2  [{\"credit_id\": \"54805967c3a36829b5002c41\", \"de...   \n",
       "3  [{\"credit_id\": \"52fe4781c3a36847f81398c3\", \"de...   \n",
       "4  [{\"credit_id\": \"52fe479ac3a36847f813eaa3\", \"de...   \n",
       "\n",
       "                                keywords                                genres  \n",
       "0     [culture clash, future, space war]          [Action, Adventure, Fantasy]  \n",
       "1     [ocean, drug abuse, exotic island]          [Adventure, Fantasy, Action]  \n",
       "2    [spy, based on novel, secret agent]            [Action, Adventure, Crime]  \n",
       "3  [dc comics, crime fighter, terrorist]                [Action, Crime, Drama]  \n",
       "4      [based on novel, mars, medallion]  [Action, Adventure, Science Fiction]  "
      ]
     },
     "execution_count": 11,
     "metadata": {},
     "output_type": "execute_result"
    }
   ],
   "source": [
    "movies_df1=movies_df[features]\n",
    "movies_df1.head()"
   ]
  },
  {
   "cell_type": "code",
   "execution_count": 12,
   "metadata": {},
   "outputs": [
    {
     "name": "stderr",
     "output_type": "stream",
     "text": [
      "/var/folders/nf/r4jgw26163j0xgqlgstm67r80000gn/T/ipykernel_34547/2251701251.py:5: SettingWithCopyWarning: \n",
      "A value is trying to be set on a copy of a slice from a DataFrame.\n",
      "Try using .loc[row_indexer,col_indexer] = value instead\n",
      "\n",
      "See the caveats in the documentation: https://pandas.pydata.org/pandas-docs/stable/user_guide/indexing.html#returning-a-view-versus-a-copy\n",
      "  movies_df1['cast'] = list1\n",
      "/var/folders/nf/r4jgw26163j0xgqlgstm67r80000gn/T/ipykernel_34547/2251701251.py:12: SettingWithCopyWarning: \n",
      "A value is trying to be set on a copy of a slice from a DataFrame.\n",
      "Try using .loc[row_indexer,col_indexer] = value instead\n",
      "\n",
      "See the caveats in the documentation: https://pandas.pydata.org/pandas-docs/stable/user_guide/indexing.html#returning-a-view-versus-a-copy\n",
      "  movies_df1['crew'] = list1\n"
     ]
    }
   ],
   "source": [
    "list1=[]\n",
    "for  i in movies_df1['cast']:\n",
    "  res = json.loads(i)\n",
    "  list1.append(res)\n",
    "movies_df1['cast'] = list1\n",
    "\n",
    "\n",
    "list1=[]\n",
    "for  i in movies_df1['crew']:\n",
    "  res = json.loads(i)\n",
    "  list1.append(res)\n",
    "movies_df1['crew'] = list1"
   ]
  },
  {
   "cell_type": "code",
   "execution_count": 13,
   "metadata": {
    "id": "PkBGNmudAuBz"
   },
   "outputs": [
    {
     "data": {
      "text/html": [
       "<div>\n",
       "<style scoped>\n",
       "    .dataframe tbody tr th:only-of-type {\n",
       "        vertical-align: middle;\n",
       "    }\n",
       "\n",
       "    .dataframe tbody tr th {\n",
       "        vertical-align: top;\n",
       "    }\n",
       "\n",
       "    .dataframe thead th {\n",
       "        text-align: right;\n",
       "    }\n",
       "</style>\n",
       "<table border=\"1\" class=\"dataframe\">\n",
       "  <thead>\n",
       "    <tr style=\"text-align: right;\">\n",
       "      <th></th>\n",
       "      <th>title_movie</th>\n",
       "      <th>cast</th>\n",
       "      <th>crew</th>\n",
       "      <th>keywords</th>\n",
       "      <th>genres</th>\n",
       "    </tr>\n",
       "  </thead>\n",
       "  <tbody>\n",
       "    <tr>\n",
       "      <th>0</th>\n",
       "      <td>Avatar</td>\n",
       "      <td>[{'cast_id': 242, 'character': 'Jake Sully', '...</td>\n",
       "      <td>[{'credit_id': '52fe48009251416c750aca23', 'de...</td>\n",
       "      <td>[culture clash, future, space war]</td>\n",
       "      <td>[Action, Adventure, Fantasy]</td>\n",
       "    </tr>\n",
       "    <tr>\n",
       "      <th>1</th>\n",
       "      <td>Pirates of the Caribbean: At World's End</td>\n",
       "      <td>[{'cast_id': 4, 'character': 'Captain Jack Spa...</td>\n",
       "      <td>[{'credit_id': '52fe4232c3a36847f800b579', 'de...</td>\n",
       "      <td>[ocean, drug abuse, exotic island]</td>\n",
       "      <td>[Adventure, Fantasy, Action]</td>\n",
       "    </tr>\n",
       "    <tr>\n",
       "      <th>2</th>\n",
       "      <td>Spectre</td>\n",
       "      <td>[{'cast_id': 1, 'character': 'James Bond', 'cr...</td>\n",
       "      <td>[{'credit_id': '54805967c3a36829b5002c41', 'de...</td>\n",
       "      <td>[spy, based on novel, secret agent]</td>\n",
       "      <td>[Action, Adventure, Crime]</td>\n",
       "    </tr>\n",
       "    <tr>\n",
       "      <th>3</th>\n",
       "      <td>The Dark Knight Rises</td>\n",
       "      <td>[{'cast_id': 2, 'character': 'Bruce Wayne / Ba...</td>\n",
       "      <td>[{'credit_id': '52fe4781c3a36847f81398c3', 'de...</td>\n",
       "      <td>[dc comics, crime fighter, terrorist]</td>\n",
       "      <td>[Action, Crime, Drama]</td>\n",
       "    </tr>\n",
       "    <tr>\n",
       "      <th>4</th>\n",
       "      <td>John Carter</td>\n",
       "      <td>[{'cast_id': 5, 'character': 'John Carter', 'c...</td>\n",
       "      <td>[{'credit_id': '52fe479ac3a36847f813eaa3', 'de...</td>\n",
       "      <td>[based on novel, mars, medallion]</td>\n",
       "      <td>[Action, Adventure, Science Fiction]</td>\n",
       "    </tr>\n",
       "  </tbody>\n",
       "</table>\n",
       "</div>"
      ],
      "text/plain": [
       "                                title_movie  \\\n",
       "0                                    Avatar   \n",
       "1  Pirates of the Caribbean: At World's End   \n",
       "2                                   Spectre   \n",
       "3                     The Dark Knight Rises   \n",
       "4                               John Carter   \n",
       "\n",
       "                                                cast  \\\n",
       "0  [{'cast_id': 242, 'character': 'Jake Sully', '...   \n",
       "1  [{'cast_id': 4, 'character': 'Captain Jack Spa...   \n",
       "2  [{'cast_id': 1, 'character': 'James Bond', 'cr...   \n",
       "3  [{'cast_id': 2, 'character': 'Bruce Wayne / Ba...   \n",
       "4  [{'cast_id': 5, 'character': 'John Carter', 'c...   \n",
       "\n",
       "                                                crew  \\\n",
       "0  [{'credit_id': '52fe48009251416c750aca23', 'de...   \n",
       "1  [{'credit_id': '52fe4232c3a36847f800b579', 'de...   \n",
       "2  [{'credit_id': '54805967c3a36829b5002c41', 'de...   \n",
       "3  [{'credit_id': '52fe4781c3a36847f81398c3', 'de...   \n",
       "4  [{'credit_id': '52fe479ac3a36847f813eaa3', 'de...   \n",
       "\n",
       "                                keywords                                genres  \n",
       "0     [culture clash, future, space war]          [Action, Adventure, Fantasy]  \n",
       "1     [ocean, drug abuse, exotic island]          [Adventure, Fantasy, Action]  \n",
       "2    [spy, based on novel, secret agent]            [Action, Adventure, Crime]  \n",
       "3  [dc comics, crime fighter, terrorist]                [Action, Crime, Drama]  \n",
       "4      [based on novel, mars, medallion]  [Action, Adventure, Science Fiction]  "
      ]
     },
     "execution_count": 13,
     "metadata": {},
     "output_type": "execute_result"
    }
   ],
   "source": [
    "movies_df1.head()"
   ]
  },
  {
   "cell_type": "code",
   "execution_count": 14,
   "metadata": {},
   "outputs": [
    {
     "name": "stdout",
     "output_type": "stream",
     "text": [
      "<class 'pandas.core.frame.DataFrame'>\n",
      "RangeIndex: 4803 entries, 0 to 4802\n",
      "Data columns (total 5 columns):\n",
      " #   Column       Non-Null Count  Dtype \n",
      "---  ------       --------------  ----- \n",
      " 0   title_movie  4803 non-null   object\n",
      " 1   cast         4803 non-null   object\n",
      " 2   crew         4803 non-null   object\n",
      " 3   keywords     4803 non-null   object\n",
      " 4   genres       4803 non-null   object\n",
      "dtypes: object(5)\n",
      "memory usage: 187.7+ KB\n"
     ]
    }
   ],
   "source": [
    "movies_df1.info()"
   ]
  },
  {
   "cell_type": "code",
   "execution_count": 15,
   "metadata": {
    "id": "81_CVn1TaQ6v"
   },
   "outputs": [
    {
     "name": "stderr",
     "output_type": "stream",
     "text": [
      "/var/folders/nf/r4jgw26163j0xgqlgstm67r80000gn/T/ipykernel_34547/1799078319.py:6: SettingWithCopyWarning: \n",
      "A value is trying to be set on a copy of a slice from a DataFrame.\n",
      "Try using .loc[row_indexer,col_indexer] = value instead\n",
      "\n",
      "See the caveats in the documentation: https://pandas.pydata.org/pandas-docs/stable/user_guide/indexing.html#returning-a-view-versus-a-copy\n",
      "  movies_df1[\"director\"] = movies_df1[\"crew\"].apply(get_director)\n"
     ]
    }
   ],
   "source": [
    "def get_director(x):\n",
    "    for i in x:\n",
    "        if i[\"job\"] == \"Director\":\n",
    "            return i[\"name\"]\n",
    "    return np.nan\n",
    "movies_df1[\"director\"] = movies_df1[\"crew\"].apply(get_director)\n"
   ]
  },
  {
   "cell_type": "code",
   "execution_count": 16,
   "metadata": {},
   "outputs": [
    {
     "data": {
      "text/html": [
       "<div>\n",
       "<style scoped>\n",
       "    .dataframe tbody tr th:only-of-type {\n",
       "        vertical-align: middle;\n",
       "    }\n",
       "\n",
       "    .dataframe tbody tr th {\n",
       "        vertical-align: top;\n",
       "    }\n",
       "\n",
       "    .dataframe thead th {\n",
       "        text-align: right;\n",
       "    }\n",
       "</style>\n",
       "<table border=\"1\" class=\"dataframe\">\n",
       "  <thead>\n",
       "    <tr style=\"text-align: right;\">\n",
       "      <th></th>\n",
       "      <th>title_movie</th>\n",
       "      <th>cast</th>\n",
       "      <th>crew</th>\n",
       "      <th>keywords</th>\n",
       "      <th>genres</th>\n",
       "      <th>director</th>\n",
       "    </tr>\n",
       "  </thead>\n",
       "  <tbody>\n",
       "    <tr>\n",
       "      <th>0</th>\n",
       "      <td>Avatar</td>\n",
       "      <td>[{'cast_id': 242, 'character': 'Jake Sully', '...</td>\n",
       "      <td>[{'credit_id': '52fe48009251416c750aca23', 'de...</td>\n",
       "      <td>[culture clash, future, space war]</td>\n",
       "      <td>[Action, Adventure, Fantasy]</td>\n",
       "      <td>James Cameron</td>\n",
       "    </tr>\n",
       "    <tr>\n",
       "      <th>1</th>\n",
       "      <td>Pirates of the Caribbean: At World's End</td>\n",
       "      <td>[{'cast_id': 4, 'character': 'Captain Jack Spa...</td>\n",
       "      <td>[{'credit_id': '52fe4232c3a36847f800b579', 'de...</td>\n",
       "      <td>[ocean, drug abuse, exotic island]</td>\n",
       "      <td>[Adventure, Fantasy, Action]</td>\n",
       "      <td>Gore Verbinski</td>\n",
       "    </tr>\n",
       "    <tr>\n",
       "      <th>2</th>\n",
       "      <td>Spectre</td>\n",
       "      <td>[{'cast_id': 1, 'character': 'James Bond', 'cr...</td>\n",
       "      <td>[{'credit_id': '54805967c3a36829b5002c41', 'de...</td>\n",
       "      <td>[spy, based on novel, secret agent]</td>\n",
       "      <td>[Action, Adventure, Crime]</td>\n",
       "      <td>Sam Mendes</td>\n",
       "    </tr>\n",
       "    <tr>\n",
       "      <th>3</th>\n",
       "      <td>The Dark Knight Rises</td>\n",
       "      <td>[{'cast_id': 2, 'character': 'Bruce Wayne / Ba...</td>\n",
       "      <td>[{'credit_id': '52fe4781c3a36847f81398c3', 'de...</td>\n",
       "      <td>[dc comics, crime fighter, terrorist]</td>\n",
       "      <td>[Action, Crime, Drama]</td>\n",
       "      <td>Christopher Nolan</td>\n",
       "    </tr>\n",
       "    <tr>\n",
       "      <th>4</th>\n",
       "      <td>John Carter</td>\n",
       "      <td>[{'cast_id': 5, 'character': 'John Carter', 'c...</td>\n",
       "      <td>[{'credit_id': '52fe479ac3a36847f813eaa3', 'de...</td>\n",
       "      <td>[based on novel, mars, medallion]</td>\n",
       "      <td>[Action, Adventure, Science Fiction]</td>\n",
       "      <td>Andrew Stanton</td>\n",
       "    </tr>\n",
       "  </tbody>\n",
       "</table>\n",
       "</div>"
      ],
      "text/plain": [
       "                                title_movie  \\\n",
       "0                                    Avatar   \n",
       "1  Pirates of the Caribbean: At World's End   \n",
       "2                                   Spectre   \n",
       "3                     The Dark Knight Rises   \n",
       "4                               John Carter   \n",
       "\n",
       "                                                cast  \\\n",
       "0  [{'cast_id': 242, 'character': 'Jake Sully', '...   \n",
       "1  [{'cast_id': 4, 'character': 'Captain Jack Spa...   \n",
       "2  [{'cast_id': 1, 'character': 'James Bond', 'cr...   \n",
       "3  [{'cast_id': 2, 'character': 'Bruce Wayne / Ba...   \n",
       "4  [{'cast_id': 5, 'character': 'John Carter', 'c...   \n",
       "\n",
       "                                                crew  \\\n",
       "0  [{'credit_id': '52fe48009251416c750aca23', 'de...   \n",
       "1  [{'credit_id': '52fe4232c3a36847f800b579', 'de...   \n",
       "2  [{'credit_id': '54805967c3a36829b5002c41', 'de...   \n",
       "3  [{'credit_id': '52fe4781c3a36847f81398c3', 'de...   \n",
       "4  [{'credit_id': '52fe479ac3a36847f813eaa3', 'de...   \n",
       "\n",
       "                                keywords  \\\n",
       "0     [culture clash, future, space war]   \n",
       "1     [ocean, drug abuse, exotic island]   \n",
       "2    [spy, based on novel, secret agent]   \n",
       "3  [dc comics, crime fighter, terrorist]   \n",
       "4      [based on novel, mars, medallion]   \n",
       "\n",
       "                                 genres           director  \n",
       "0          [Action, Adventure, Fantasy]      James Cameron  \n",
       "1          [Adventure, Fantasy, Action]     Gore Verbinski  \n",
       "2            [Action, Adventure, Crime]         Sam Mendes  \n",
       "3                [Action, Crime, Drama]  Christopher Nolan  \n",
       "4  [Action, Adventure, Science Fiction]     Andrew Stanton  "
      ]
     },
     "execution_count": 16,
     "metadata": {},
     "output_type": "execute_result"
    }
   ],
   "source": [
    "movies_df1.head()"
   ]
  },
  {
   "cell_type": "code",
   "execution_count": 17,
   "metadata": {
    "id": "y4luf7ZVZm_P"
   },
   "outputs": [
    {
     "name": "stderr",
     "output_type": "stream",
     "text": [
      "/var/folders/nf/r4jgw26163j0xgqlgstm67r80000gn/T/ipykernel_34547/104954914.py:8: SettingWithCopyWarning: \n",
      "A value is trying to be set on a copy of a slice from a DataFrame.\n",
      "Try using .loc[row_indexer,col_indexer] = value instead\n",
      "\n",
      "See the caveats in the documentation: https://pandas.pydata.org/pandas-docs/stable/user_guide/indexing.html#returning-a-view-versus-a-copy\n",
      "  movies_df1['cast'] = all_cast_list\n"
     ]
    }
   ],
   "source": [
    "all_cast_list = []\n",
    "for i in movies_df1['cast'].values:\n",
    "    cast_list = []\n",
    "    for j in i[:3]:\n",
    "        cast_list.append(j['character'])\n",
    "    all_cast_list.append(cast_list)\n",
    "\n",
    "movies_df1['cast'] = all_cast_list\n"
   ]
  },
  {
   "cell_type": "code",
   "execution_count": 18,
   "metadata": {
    "id": "lpmJL9ruaXPh"
   },
   "outputs": [],
   "source": [
    "movie1=movies_df1[['title_movie', 'cast', 'director', 'keywords', 'genres']]"
   ]
  },
  {
   "cell_type": "code",
   "execution_count": 19,
   "metadata": {
    "colab": {
     "base_uri": "https://localhost:8080/",
     "height": 250
    },
    "executionInfo": {
     "elapsed": 5,
     "status": "ok",
     "timestamp": 1647881933710,
     "user": {
      "displayName": "Smritika Sadhukhan",
      "photoUrl": "https://lh3.googleusercontent.com/a-/AOh14GjFyuV5COtwkXdzCpr25rP8gKKP7KNnqb6uzu_4=s64",
      "userId": "07878556883244646606"
     },
     "user_tz": -330
    },
    "id": "3_bk04cgKASJ",
    "outputId": "a435d36f-d772-4f6c-ac2e-0fd93b9d9b98"
   },
   "outputs": [
    {
     "data": {
      "text/html": [
       "<div>\n",
       "<style scoped>\n",
       "    .dataframe tbody tr th:only-of-type {\n",
       "        vertical-align: middle;\n",
       "    }\n",
       "\n",
       "    .dataframe tbody tr th {\n",
       "        vertical-align: top;\n",
       "    }\n",
       "\n",
       "    .dataframe thead th {\n",
       "        text-align: right;\n",
       "    }\n",
       "</style>\n",
       "<table border=\"1\" class=\"dataframe\">\n",
       "  <thead>\n",
       "    <tr style=\"text-align: right;\">\n",
       "      <th></th>\n",
       "      <th>title_movie</th>\n",
       "      <th>cast</th>\n",
       "      <th>director</th>\n",
       "      <th>keywords</th>\n",
       "      <th>genres</th>\n",
       "    </tr>\n",
       "  </thead>\n",
       "  <tbody>\n",
       "    <tr>\n",
       "      <th>0</th>\n",
       "      <td>Avatar</td>\n",
       "      <td>[Jake Sully, Neytiri, Dr. Grace Augustine]</td>\n",
       "      <td>James Cameron</td>\n",
       "      <td>[culture clash, future, space war]</td>\n",
       "      <td>[Action, Adventure, Fantasy]</td>\n",
       "    </tr>\n",
       "    <tr>\n",
       "      <th>1</th>\n",
       "      <td>Pirates of the Caribbean: At World's End</td>\n",
       "      <td>[Captain Jack Sparrow, Will Turner, Elizabeth ...</td>\n",
       "      <td>Gore Verbinski</td>\n",
       "      <td>[ocean, drug abuse, exotic island]</td>\n",
       "      <td>[Adventure, Fantasy, Action]</td>\n",
       "    </tr>\n",
       "    <tr>\n",
       "      <th>2</th>\n",
       "      <td>Spectre</td>\n",
       "      <td>[James Bond, Blofeld, Madeleine]</td>\n",
       "      <td>Sam Mendes</td>\n",
       "      <td>[spy, based on novel, secret agent]</td>\n",
       "      <td>[Action, Adventure, Crime]</td>\n",
       "    </tr>\n",
       "    <tr>\n",
       "      <th>3</th>\n",
       "      <td>The Dark Knight Rises</td>\n",
       "      <td>[Bruce Wayne / Batman, Alfred Pennyworth, Jame...</td>\n",
       "      <td>Christopher Nolan</td>\n",
       "      <td>[dc comics, crime fighter, terrorist]</td>\n",
       "      <td>[Action, Crime, Drama]</td>\n",
       "    </tr>\n",
       "    <tr>\n",
       "      <th>4</th>\n",
       "      <td>John Carter</td>\n",
       "      <td>[John Carter, Dejah Thoris, Sola]</td>\n",
       "      <td>Andrew Stanton</td>\n",
       "      <td>[based on novel, mars, medallion]</td>\n",
       "      <td>[Action, Adventure, Science Fiction]</td>\n",
       "    </tr>\n",
       "  </tbody>\n",
       "</table>\n",
       "</div>"
      ],
      "text/plain": [
       "                                title_movie  \\\n",
       "0                                    Avatar   \n",
       "1  Pirates of the Caribbean: At World's End   \n",
       "2                                   Spectre   \n",
       "3                     The Dark Knight Rises   \n",
       "4                               John Carter   \n",
       "\n",
       "                                                cast           director  \\\n",
       "0         [Jake Sully, Neytiri, Dr. Grace Augustine]      James Cameron   \n",
       "1  [Captain Jack Sparrow, Will Turner, Elizabeth ...     Gore Verbinski   \n",
       "2                   [James Bond, Blofeld, Madeleine]         Sam Mendes   \n",
       "3  [Bruce Wayne / Batman, Alfred Pennyworth, Jame...  Christopher Nolan   \n",
       "4                  [John Carter, Dejah Thoris, Sola]     Andrew Stanton   \n",
       "\n",
       "                                keywords                                genres  \n",
       "0     [culture clash, future, space war]          [Action, Adventure, Fantasy]  \n",
       "1     [ocean, drug abuse, exotic island]          [Adventure, Fantasy, Action]  \n",
       "2    [spy, based on novel, secret agent]            [Action, Adventure, Crime]  \n",
       "3  [dc comics, crime fighter, terrorist]                [Action, Crime, Drama]  \n",
       "4      [based on novel, mars, medallion]  [Action, Adventure, Science Fiction]  "
      ]
     },
     "execution_count": 19,
     "metadata": {},
     "output_type": "execute_result"
    }
   ],
   "source": [
    "movie1.head(5)"
   ]
  },
  {
   "cell_type": "code",
   "execution_count": 20,
   "metadata": {
    "id": "rLWa3wD6aYqf"
   },
   "outputs": [
    {
     "name": "stderr",
     "output_type": "stream",
     "text": [
      "/var/folders/nf/r4jgw26163j0xgqlgstm67r80000gn/T/ipykernel_34547/695322410.py:12: SettingWithCopyWarning: \n",
      "A value is trying to be set on a copy of a slice from a DataFrame.\n",
      "Try using .loc[row_indexer,col_indexer] = value instead\n",
      "\n",
      "See the caveats in the documentation: https://pandas.pydata.org/pandas-docs/stable/user_guide/indexing.html#returning-a-view-versus-a-copy\n",
      "  movie1[feature] = movie1[feature].apply(clean_data)\n"
     ]
    }
   ],
   "source": [
    "def clean_data(row):\n",
    "    if isinstance(row, list):\n",
    "        return [str.lower(i.replace(\" \", \" \")) for i in row]\n",
    "    else:\n",
    "        if isinstance(row, str):\n",
    "            return str.lower(row.replace(\" \", \" \"))\n",
    "        else:\n",
    "            return \"\"\n",
    "\n",
    "features = ['title_movie','cast', 'keywords', 'director', 'genres']\n",
    "for feature in features:\n",
    "    movie1[feature] = movie1[feature].apply(clean_data)"
   ]
  },
  {
   "cell_type": "code",
   "execution_count": 21,
   "metadata": {
    "colab": {
     "base_uri": "https://localhost:8080/",
     "height": 424
    },
    "executionInfo": {
     "elapsed": 5,
     "status": "ok",
     "timestamp": 1647881947195,
     "user": {
      "displayName": "Smritika Sadhukhan",
      "photoUrl": "https://lh3.googleusercontent.com/a-/AOh14GjFyuV5COtwkXdzCpr25rP8gKKP7KNnqb6uzu_4=s64",
      "userId": "07878556883244646606"
     },
     "user_tz": -330
    },
    "id": "9RWEDvNoCR-M",
    "outputId": "bf2b9cbc-bade-4d34-b742-327839bee6b3"
   },
   "outputs": [
    {
     "data": {
      "text/html": [
       "<div>\n",
       "<style scoped>\n",
       "    .dataframe tbody tr th:only-of-type {\n",
       "        vertical-align: middle;\n",
       "    }\n",
       "\n",
       "    .dataframe tbody tr th {\n",
       "        vertical-align: top;\n",
       "    }\n",
       "\n",
       "    .dataframe thead th {\n",
       "        text-align: right;\n",
       "    }\n",
       "</style>\n",
       "<table border=\"1\" class=\"dataframe\">\n",
       "  <thead>\n",
       "    <tr style=\"text-align: right;\">\n",
       "      <th></th>\n",
       "      <th>title_movie</th>\n",
       "      <th>cast</th>\n",
       "      <th>keywords</th>\n",
       "      <th>director</th>\n",
       "      <th>genres</th>\n",
       "    </tr>\n",
       "  </thead>\n",
       "  <tbody>\n",
       "    <tr>\n",
       "      <th>0</th>\n",
       "      <td>avatar</td>\n",
       "      <td>[jake sully, neytiri, dr. grace augustine]</td>\n",
       "      <td>[culture clash, future, space war]</td>\n",
       "      <td>james cameron</td>\n",
       "      <td>[action, adventure, fantasy]</td>\n",
       "    </tr>\n",
       "    <tr>\n",
       "      <th>1</th>\n",
       "      <td>pirates of the caribbean: at world's end</td>\n",
       "      <td>[captain jack sparrow, will turner, elizabeth ...</td>\n",
       "      <td>[ocean, drug abuse, exotic island]</td>\n",
       "      <td>gore verbinski</td>\n",
       "      <td>[adventure, fantasy, action]</td>\n",
       "    </tr>\n",
       "    <tr>\n",
       "      <th>2</th>\n",
       "      <td>spectre</td>\n",
       "      <td>[james bond, blofeld, madeleine]</td>\n",
       "      <td>[spy, based on novel, secret agent]</td>\n",
       "      <td>sam mendes</td>\n",
       "      <td>[action, adventure, crime]</td>\n",
       "    </tr>\n",
       "    <tr>\n",
       "      <th>3</th>\n",
       "      <td>the dark knight rises</td>\n",
       "      <td>[bruce wayne / batman, alfred pennyworth, jame...</td>\n",
       "      <td>[dc comics, crime fighter, terrorist]</td>\n",
       "      <td>christopher nolan</td>\n",
       "      <td>[action, crime, drama]</td>\n",
       "    </tr>\n",
       "    <tr>\n",
       "      <th>4</th>\n",
       "      <td>john carter</td>\n",
       "      <td>[john carter, dejah thoris, sola]</td>\n",
       "      <td>[based on novel, mars, medallion]</td>\n",
       "      <td>andrew stanton</td>\n",
       "      <td>[action, adventure, science fiction]</td>\n",
       "    </tr>\n",
       "    <tr>\n",
       "      <th>...</th>\n",
       "      <td>...</td>\n",
       "      <td>...</td>\n",
       "      <td>...</td>\n",
       "      <td>...</td>\n",
       "      <td>...</td>\n",
       "    </tr>\n",
       "    <tr>\n",
       "      <th>4798</th>\n",
       "      <td>el mariachi</td>\n",
       "      <td>[el mariachi, bigotón, mauricio (moco)]</td>\n",
       "      <td>[united states–mexico barrier, legs, arms]</td>\n",
       "      <td>robert rodriguez</td>\n",
       "      <td>[action, crime, thriller]</td>\n",
       "    </tr>\n",
       "    <tr>\n",
       "      <th>4799</th>\n",
       "      <td>newlyweds</td>\n",
       "      <td>[buzzy, linda, marsha]</td>\n",
       "      <td>[]</td>\n",
       "      <td>edward burns</td>\n",
       "      <td>[comedy, romance]</td>\n",
       "    </tr>\n",
       "    <tr>\n",
       "      <th>4800</th>\n",
       "      <td>signed, sealed, delivered</td>\n",
       "      <td>[oliver o’toole, shane mcinerney, rita haywith]</td>\n",
       "      <td>[date, love at first sight, narration]</td>\n",
       "      <td>scott smith</td>\n",
       "      <td>[comedy, drama, romance]</td>\n",
       "    </tr>\n",
       "    <tr>\n",
       "      <th>4801</th>\n",
       "      <td>shanghai calling</td>\n",
       "      <td>[sam, amanda, donald]</td>\n",
       "      <td>[]</td>\n",
       "      <td>daniel hsia</td>\n",
       "      <td>[]</td>\n",
       "    </tr>\n",
       "    <tr>\n",
       "      <th>4802</th>\n",
       "      <td>my date with drew</td>\n",
       "      <td>[herself, himself, himself]</td>\n",
       "      <td>[obsession, camcorder, crush]</td>\n",
       "      <td>brian herzlinger</td>\n",
       "      <td>[documentary]</td>\n",
       "    </tr>\n",
       "  </tbody>\n",
       "</table>\n",
       "<p>4803 rows × 5 columns</p>\n",
       "</div>"
      ],
      "text/plain": [
       "                                   title_movie  \\\n",
       "0                                       avatar   \n",
       "1     pirates of the caribbean: at world's end   \n",
       "2                                      spectre   \n",
       "3                        the dark knight rises   \n",
       "4                                  john carter   \n",
       "...                                        ...   \n",
       "4798                               el mariachi   \n",
       "4799                                 newlyweds   \n",
       "4800                 signed, sealed, delivered   \n",
       "4801                          shanghai calling   \n",
       "4802                         my date with drew   \n",
       "\n",
       "                                                   cast  \\\n",
       "0            [jake sully, neytiri, dr. grace augustine]   \n",
       "1     [captain jack sparrow, will turner, elizabeth ...   \n",
       "2                      [james bond, blofeld, madeleine]   \n",
       "3     [bruce wayne / batman, alfred pennyworth, jame...   \n",
       "4                     [john carter, dejah thoris, sola]   \n",
       "...                                                 ...   \n",
       "4798            [el mariachi, bigotón, mauricio (moco)]   \n",
       "4799                             [buzzy, linda, marsha]   \n",
       "4800    [oliver o’toole, shane mcinerney, rita haywith]   \n",
       "4801                              [sam, amanda, donald]   \n",
       "4802                        [herself, himself, himself]   \n",
       "\n",
       "                                        keywords           director  \\\n",
       "0             [culture clash, future, space war]      james cameron   \n",
       "1             [ocean, drug abuse, exotic island]     gore verbinski   \n",
       "2            [spy, based on novel, secret agent]         sam mendes   \n",
       "3          [dc comics, crime fighter, terrorist]  christopher nolan   \n",
       "4              [based on novel, mars, medallion]     andrew stanton   \n",
       "...                                          ...                ...   \n",
       "4798  [united states–mexico barrier, legs, arms]   robert rodriguez   \n",
       "4799                                          []       edward burns   \n",
       "4800      [date, love at first sight, narration]        scott smith   \n",
       "4801                                          []        daniel hsia   \n",
       "4802               [obsession, camcorder, crush]   brian herzlinger   \n",
       "\n",
       "                                    genres  \n",
       "0             [action, adventure, fantasy]  \n",
       "1             [adventure, fantasy, action]  \n",
       "2               [action, adventure, crime]  \n",
       "3                   [action, crime, drama]  \n",
       "4     [action, adventure, science fiction]  \n",
       "...                                    ...  \n",
       "4798             [action, crime, thriller]  \n",
       "4799                     [comedy, romance]  \n",
       "4800              [comedy, drama, romance]  \n",
       "4801                                    []  \n",
       "4802                         [documentary]  \n",
       "\n",
       "[4803 rows x 5 columns]"
      ]
     },
     "execution_count": 21,
     "metadata": {},
     "output_type": "execute_result"
    }
   ],
   "source": [
    "movie1[features]"
   ]
  },
  {
   "cell_type": "code",
   "execution_count": 22,
   "metadata": {
    "colab": {
     "base_uri": "https://localhost:8080/"
    },
    "executionInfo": {
     "elapsed": 4,
     "status": "ok",
     "timestamp": 1647881957785,
     "user": {
      "displayName": "Smritika Sadhukhan",
      "photoUrl": "https://lh3.googleusercontent.com/a-/AOh14GjFyuV5COtwkXdzCpr25rP8gKKP7KNnqb6uzu_4=s64",
      "userId": "07878556883244646606"
     },
     "user_tz": -330
    },
    "id": "TlVShc7xaaDo",
    "outputId": "0a089fba-01da-497f-9347-f602f64fed73"
   },
   "outputs": [
    {
     "name": "stdout",
     "output_type": "stream",
     "text": [
      "0    avatar james cameron culture clash future spac...\n",
      "1    pirates of the caribbean: at world's end gore ...\n",
      "2    spectre sam mendes spy based on novel secret a...\n",
      "3    the dark knight rises christopher nolan dc com...\n",
      "4    john carter andrew stanton based on novel mars...\n",
      "Name: soup, dtype: object\n"
     ]
    }
   ],
   "source": [
    "def create_soup(features):\n",
    "    return features['title_movie']+' ' +features['director']+' '+' '.join(features['keywords']) + ' ' + ' '.join(features['cast']) + ' ' + features['director'] + ' ' + ' '.join(features['genres'])\n",
    "\n",
    "\n",
    "movie1[\"soup\"] = movie1.apply(create_soup, axis=1)\n",
    "print(movie1[\"soup\"].head())"
   ]
  },
  {
   "cell_type": "code",
   "execution_count": 23,
   "metadata": {
    "colab": {
     "base_uri": "https://localhost:8080/"
    },
    "executionInfo": {
     "elapsed": 427,
     "status": "ok",
     "timestamp": 1637593771240,
     "user": {
      "displayName": "Smritika Sadhukhan",
      "photoUrl": "https://lh3.googleusercontent.com/a-/AOh14GjFyuV5COtwkXdzCpr25rP8gKKP7KNnqb6uzu_4=s64",
      "userId": "07878556883244646606"
     },
     "user_tz": -330
    },
    "id": "pqGfhGX0MDfo",
    "outputId": "a2f66441-dac6-47b1-bc47-296af4c697a2"
   },
   "outputs": [
    {
     "name": "stdout",
     "output_type": "stream",
     "text": [
      "['avatar james cameron culture clash future space war jake sully neytiri dr. grace augustine james cameron action adventure fantasy'\n",
      " \"pirates of the caribbean: at world's end gore verbinski ocean drug abuse exotic island captain jack sparrow will turner elizabeth swann gore verbinski adventure fantasy action\"\n",
      " 'spectre sam mendes spy based on novel secret agent james bond blofeld madeleine sam mendes action adventure crime'\n",
      " 'the dark knight rises christopher nolan dc comics crime fighter terrorist bruce wayne / batman alfred pennyworth james gordon christopher nolan action crime drama'\n",
      " 'john carter andrew stanton based on novel mars medallion john carter dejah thoris sola andrew stanton action adventure science fiction']\n"
     ]
    }
   ],
   "source": [
    "print(movie1['soup'][:5].values)"
   ]
  },
  {
   "cell_type": "code",
   "execution_count": 24,
   "metadata": {
    "colab": {
     "base_uri": "https://localhost:8080/"
    },
    "executionInfo": {
     "elapsed": 418,
     "status": "ok",
     "timestamp": 1637593756245,
     "user": {
      "displayName": "Smritika Sadhukhan",
      "photoUrl": "https://lh3.googleusercontent.com/a-/AOh14GjFyuV5COtwkXdzCpr25rP8gKKP7KNnqb6uzu_4=s64",
      "userId": "07878556883244646606"
     },
     "user_tz": -330
    },
    "id": "DoL85827MU44",
    "outputId": "7664b808-513e-40f8-e683-44cfec677dcf"
   },
   "outputs": [
    {
     "name": "stdout",
     "output_type": "stream",
     "text": [
      "0                                      avatar\n",
      "1    pirates of the caribbean: at world's end\n",
      "2                                     spectre\n",
      "3                       the dark knight rises\n",
      "4                                 john carter\n",
      "Name: title_movie, dtype: object\n"
     ]
    }
   ],
   "source": [
    "print(movie1['title_movie'].head())"
   ]
  },
  {
   "cell_type": "code",
   "execution_count": 39,
   "metadata": {
    "colab": {
     "base_uri": "https://localhost:8080/"
    },
    "executionInfo": {
     "elapsed": 1376,
     "status": "ok",
     "timestamp": 1647882104008,
     "user": {
      "displayName": "Smritika Sadhukhan",
      "photoUrl": "https://lh3.googleusercontent.com/a-/AOh14GjFyuV5COtwkXdzCpr25rP8gKKP7KNnqb6uzu_4=s64",
      "userId": "07878556883244646606"
     },
     "user_tz": -330
    },
    "id": "hPxUfqKuabuR",
    "outputId": "f7bf05cc-e6fc-458a-9a7c-7cd34b3c2abd"
   },
   "outputs": [
    {
     "name": "stdout",
     "output_type": "stream",
     "text": [
      "(4803, 15508)\n",
      "(4803, 4803)\n"
     ]
    }
   ],
   "source": [
    "from sklearn.feature_extraction.text import CountVectorizer\n",
    "from sklearn.metrics.pairwise import cosine_similarity\n",
    "\n",
    "count_vectorizer = CountVectorizer(stop_words=\"english\")\n",
    "count_matrix = count_vectorizer.fit_transform(movie1[\"soup\"])\n",
    "\n",
    "print(count_matrix.shape)\n",
    "\n",
    "cosine_sim2 = cosine_similarity(count_matrix, count_matrix) \n",
    "print(cosine_sim2.shape)\n",
    "\n"
   ]
  },
  {
   "cell_type": "code",
   "execution_count": 40,
   "metadata": {
    "colab": {
     "base_uri": "https://localhost:8080/"
    },
    "executionInfo": {
     "elapsed": 369,
     "status": "ok",
     "timestamp": 1647882110474,
     "user": {
      "displayName": "Smritika Sadhukhan",
      "photoUrl": "https://lh3.googleusercontent.com/a-/AOh14GjFyuV5COtwkXdzCpr25rP8gKKP7KNnqb6uzu_4=s64",
      "userId": "07878556883244646606"
     },
     "user_tz": -330
    },
    "id": "nfj2nbqGPY5a",
    "outputId": "5f8a7bac-5d3e-49c0-8a38-9829badca80b"
   },
   "outputs": [
    {
     "name": "stdout",
     "output_type": "stream",
     "text": [
      "0       avatar james cameron culture clash future spac...\n",
      "1       pirates of the caribbean: at world's end gore ...\n",
      "2       spectre sam mendes spy based on novel secret a...\n",
      "3       the dark knight rises christopher nolan dc com...\n",
      "4       john carter andrew stanton based on novel mars...\n",
      "                              ...                        \n",
      "4798    el mariachi robert rodriguez united states–mex...\n",
      "4799    newlyweds edward burns  buzzy linda marsha edw...\n",
      "4800    signed, sealed, delivered scott smith date lov...\n",
      "4801    shanghai calling daniel hsia  sam amanda donal...\n",
      "4802    my date with drew brian herzlinger obsession c...\n",
      "Name: soup, Length: 4803, dtype: object\n"
     ]
    }
   ],
   "source": [
    "print(movie1['soup'])"
   ]
  },
  {
   "cell_type": "code",
   "execution_count": 41,
   "metadata": {},
   "outputs": [
    {
     "data": {
      "text/html": [
       "<div>\n",
       "<style scoped>\n",
       "    .dataframe tbody tr th:only-of-type {\n",
       "        vertical-align: middle;\n",
       "    }\n",
       "\n",
       "    .dataframe tbody tr th {\n",
       "        vertical-align: top;\n",
       "    }\n",
       "\n",
       "    .dataframe thead th {\n",
       "        text-align: right;\n",
       "    }\n",
       "</style>\n",
       "<table border=\"1\" class=\"dataframe\">\n",
       "  <thead>\n",
       "    <tr style=\"text-align: right;\">\n",
       "      <th></th>\n",
       "      <th>title_movie</th>\n",
       "      <th>cast</th>\n",
       "      <th>director</th>\n",
       "      <th>keywords</th>\n",
       "      <th>genres</th>\n",
       "      <th>soup</th>\n",
       "    </tr>\n",
       "  </thead>\n",
       "  <tbody>\n",
       "    <tr>\n",
       "      <th>0</th>\n",
       "      <td>avatar</td>\n",
       "      <td>[jake sully, neytiri, dr. grace augustine]</td>\n",
       "      <td>james cameron</td>\n",
       "      <td>[culture clash, future, space war]</td>\n",
       "      <td>[action, adventure, fantasy]</td>\n",
       "      <td>avatar james cameron culture clash future spac...</td>\n",
       "    </tr>\n",
       "  </tbody>\n",
       "</table>\n",
       "</div>"
      ],
      "text/plain": [
       "  title_movie                                        cast       director  \\\n",
       "0      avatar  [jake sully, neytiri, dr. grace augustine]  james cameron   \n",
       "\n",
       "                             keywords                        genres  \\\n",
       "0  [culture clash, future, space war]  [action, adventure, fantasy]   \n",
       "\n",
       "                                                soup  \n",
       "0  avatar james cameron culture clash future spac...  "
      ]
     },
     "execution_count": 41,
     "metadata": {},
     "output_type": "execute_result"
    }
   ],
   "source": [
    "movie1.head(1)"
   ]
  },
  {
   "cell_type": "code",
   "execution_count": 42,
   "metadata": {
    "id": "2KiYKlsWPWp7"
   },
   "outputs": [],
   "source": [
    "# movies_df = movies_df.reset_index()\n",
    "indices = pd.Series(movie1.index, index=movie1['title_movie'])"
   ]
  },
  {
   "cell_type": "code",
   "execution_count": 43,
   "metadata": {},
   "outputs": [
    {
     "name": "stdout",
     "output_type": "stream",
     "text": [
      "title_movie\n",
      "avatar                                         0\n",
      "pirates of the caribbean: at world's end       1\n",
      "spectre                                        2\n",
      "the dark knight rises                          3\n",
      "john carter                                    4\n",
      "                                            ... \n",
      "el mariachi                                 4798\n",
      "newlyweds                                   4799\n",
      "signed, sealed, delivered                   4800\n",
      "shanghai calling                            4801\n",
      "my date with drew                           4802\n",
      "Length: 4803, dtype: int64\n"
     ]
    }
   ],
   "source": [
    "print(indices)"
   ]
  },
  {
   "cell_type": "code",
   "execution_count": 44,
   "metadata": {
    "colab": {
     "base_uri": "https://localhost:8080/"
    },
    "executionInfo": {
     "elapsed": 4,
     "status": "ok",
     "timestamp": 1647882213023,
     "user": {
      "displayName": "Smritika Sadhukhan",
      "photoUrl": "https://lh3.googleusercontent.com/a-/AOh14GjFyuV5COtwkXdzCpr25rP8gKKP7KNnqb6uzu_4=s64",
      "userId": "07878556883244646606"
     },
     "user_tz": -330
    },
    "id": "h_zja5unabwY",
    "outputId": "ceb44df5-9c23-4832-bb64-d18caf3b237e"
   },
   "outputs": [
    {
     "name": "stdout",
     "output_type": "stream",
     "text": [
      "title_movie\n",
      "Avatar                                      0\n",
      "Pirates of the Caribbean: At World's End    1\n",
      "Spectre                                     2\n",
      "The Dark Knight Rises                       3\n",
      "John Carter                                 4\n",
      "dtype: int64\n"
     ]
    }
   ],
   "source": [
    "indices = pd.Series(movies_df.index, index=movie1[\"title_movie\"]).drop_duplicates()\n",
    "\n",
    "print(indices.head())"
   ]
  },
  {
   "cell_type": "markdown",
   "metadata": {
    "id": "JWK54q32GOKN"
   },
   "source": []
  },
  {
   "cell_type": "code",
   "execution_count": 45,
   "metadata": {
    "colab": {
     "base_uri": "https://localhost:8080/"
    },
    "executionInfo": {
     "elapsed": 3,
     "status": "ok",
     "timestamp": 1647882214896,
     "user": {
      "displayName": "Smritika Sadhukhan",
      "photoUrl": "https://lh3.googleusercontent.com/a-/AOh14GjFyuV5COtwkXdzCpr25rP8gKKP7KNnqb6uzu_4=s64",
      "userId": "07878556883244646606"
     },
     "user_tz": -330
    },
    "id": "E1QGUJ32Fx1Y",
    "outputId": "e735e652-ad43-4b6a-d2f6-6bb69827bb84"
   },
   "outputs": [
    {
     "name": "stdout",
     "output_type": "stream",
     "text": [
      "0\n"
     ]
    }
   ],
   "source": [
    "print(indices['Avatar'])"
   ]
  },
  {
   "cell_type": "code",
   "execution_count": 46,
   "metadata": {
    "id": "itu3QZ3JGD1i"
   },
   "outputs": [],
   "source": [
    "idx = indices['The Dark Knight Rises']"
   ]
  },
  {
   "cell_type": "code",
   "execution_count": 47,
   "metadata": {
    "colab": {
     "base_uri": "https://localhost:8080/"
    },
    "executionInfo": {
     "elapsed": 2,
     "status": "ok",
     "timestamp": 1647882215424,
     "user": {
      "displayName": "Smritika Sadhukhan",
      "photoUrl": "https://lh3.googleusercontent.com/a-/AOh14GjFyuV5COtwkXdzCpr25rP8gKKP7KNnqb6uzu_4=s64",
      "userId": "07878556883244646606"
     },
     "user_tz": -330
    },
    "id": "PLJfF5urQX0b",
    "outputId": "f130b049-f781-4c0c-f283-395190e99695"
   },
   "outputs": [
    {
     "name": "stdout",
     "output_type": "stream",
     "text": [
      "3\n"
     ]
    }
   ],
   "source": [
    "print(idx)"
   ]
  },
  {
   "cell_type": "code",
   "execution_count": 48,
   "metadata": {},
   "outputs": [
    {
     "name": "stdout",
     "output_type": "stream",
     "text": [
      "587                      The Abyss\n",
      "2403                        Aliens\n",
      "282                      True Lies\n",
      "279     Terminator 2: Judgment Day\n",
      "3439                The Terminator\n",
      "1652          Dragonball Evolution\n",
      "25                         Titanic\n",
      "2708                      Caravans\n",
      "2597                    Confidence\n",
      "94         Guardians of the Galaxy\n",
      "Name: title_movie, dtype: object\n"
     ]
    }
   ],
   "source": [
    "movie_index_score = list(enumerate(cosine_sim2[0]))\n",
    "movie_index_score=sorted(movie_index_score, key=lambda x: x[1], reverse=True)\n",
    "movie_index_score = movie_index_score[1:11]\n",
    "movies_indices = [ind[0] for ind in movie_index_score]\n",
    "movies = movie1[\"title_movie\"].iloc[movies_indices]\n",
    "print(movies)"
   ]
  },
  {
   "cell_type": "code",
   "execution_count": 49,
   "metadata": {},
   "outputs": [
    {
     "name": "stdout",
     "output_type": "stream",
     "text": [
      "title_movie                                the dark knight rises\n",
      "cast           [bruce wayne / batman, alfred pennyworth, jame...\n",
      "director                                       christopher nolan\n",
      "keywords                   [dc comics, crime fighter, terrorist]\n",
      "genres                                    [action, crime, drama]\n",
      "soup           the dark knight rises christopher nolan dc com...\n",
      "Name: 3, dtype: object\n"
     ]
    }
   ],
   "source": [
    "print(movie1.iloc[3])"
   ]
  },
  {
   "cell_type": "code",
   "execution_count": 54,
   "metadata": {},
   "outputs": [
    {
     "name": "stdout",
     "output_type": "stream",
     "text": [
      "title_movie                                        batman begins\n",
      "cast           [bruce wayne / batman, alfred pennyworth, henr...\n",
      "director                                       christopher nolan\n",
      "keywords                     [himalaya, martial arts, dc comics]\n",
      "genres                                    [action, crime, drama]\n",
      "soup           batman begins christopher nolan himalaya marti...\n",
      "Name: 119, dtype: object\n"
     ]
    }
   ],
   "source": [
    "print(movie1.iloc[119])"
   ]
  },
  {
   "cell_type": "code",
   "execution_count": 51,
   "metadata": {},
   "outputs": [
    {
     "name": "stdout",
     "output_type": "stream",
     "text": [
      "title_movie                                              don jon\n",
      "cast               [jon martello, jr., barbara sugarman, esther]\n",
      "director                                    joseph gordon-levitt\n",
      "keywords                       [pornography, sex, sex addiction]\n",
      "genres                                  [romance, comedy, drama]\n",
      "soup           don jon joseph gordon-levitt pornography sex s...\n",
      "Name: 3530, dtype: object\n"
     ]
    }
   ],
   "source": [
    "print(movie1.iloc[3530])"
   ]
  },
  {
   "cell_type": "code",
   "execution_count": 55,
   "metadata": {
    "colab": {
     "base_uri": "https://localhost:8080/"
    },
    "executionInfo": {
     "elapsed": 3,
     "status": "ok",
     "timestamp": 1647882215979,
     "user": {
      "displayName": "Smritika Sadhukhan",
      "photoUrl": "https://lh3.googleusercontent.com/a-/AOh14GjFyuV5COtwkXdzCpr25rP8gKKP7KNnqb6uzu_4=s64",
      "userId": "07878556883244646606"
     },
     "user_tz": -330
    },
    "id": "DtusTWU7ab0z",
    "outputId": "f2cccfbf-3b7e-40c0-cf1c-572c1dc4d786"
   },
   "outputs": [
    {
     "name": "stdout",
     "output_type": "stream",
     "text": [
      "################ Content Based System #############\n",
      "Recommendations for The Dark Knight Rises\n",
      "3                         the dark knight rises\n",
      "65                              the dark knight\n",
      "119                               batman begins\n",
      "1033                                   insomnia\n",
      "1196                               the prestige\n",
      "96                                    inception\n",
      "3854    batman: the dark knight returns, part 2\n",
      "3573                                    memento\n",
      "299                              batman forever\n",
      "95                                 interstellar\n",
      "3180                         the way of the gun\n",
      "Name: title_movie, dtype: object\n",
      "\n",
      "Recommendations for Avengers\n",
      "0                           avatar\n",
      "587                      the abyss\n",
      "2403                        aliens\n",
      "282                      true lies\n",
      "279     terminator 2: judgment day\n",
      "3439                the terminator\n",
      "1652          dragonball evolution\n",
      "25                         titanic\n",
      "2708                      caravans\n",
      "2597                    confidence\n",
      "94         guardians of the galaxy\n",
      "Name: title_movie, dtype: object\n"
     ]
    }
   ],
   "source": [
    "def get_recommendations(title, cosine_sim=cosine_sim2):\n",
    "    index_value_of_the_movie = indices[title]\n",
    "    similarity_scores = list(enumerate(cosine_sim[index_value_of_the_movie]))\n",
    "    similarity_scores= sorted(similarity_scores, key=lambda x: x[1], reverse=True)\n",
    "    similarity_scores= similarity_scores[:11]\n",
    "    # (a, b) where a is id of movie, b is similarity_scores\n",
    "\n",
    "    movies_indices = [ind[0] for ind in similarity_scores]\n",
    "    movies = movie1[\"title_movie\"].iloc[movies_indices]\n",
    "    return movies\n",
    "\n",
    "\n",
    "print(\"################ Content Based System #############\")\n",
    "print(\"Recommendations for The Dark Knight Rises\")\n",
    "print(get_recommendations(\"The Dark Knight Rises\", cosine_sim2))\n",
    "print()\n",
    "print(\"Recommendations for Avengers\")\n",
    "print(get_recommendations(\"Avatar\", cosine_sim2))"
   ]
  },
  {
   "cell_type": "code",
   "execution_count": null,
   "metadata": {
    "id": "Wt-nZjNmPKG5"
   },
   "outputs": [],
   "source": []
  },
  {
   "cell_type": "code",
   "execution_count": null,
   "metadata": {},
   "outputs": [],
   "source": []
  }
 ],
 "metadata": {
  "colab": {
   "name": "Movie_Recommendation.ipynb",
   "provenance": []
  },
  "kernelspec": {
   "display_name": "Python 3 (ipykernel)",
   "language": "python",
   "name": "python3"
  },
  "language_info": {
   "codemirror_mode": {
    "name": "ipython",
    "version": 3
   },
   "file_extension": ".py",
   "mimetype": "text/x-python",
   "name": "python",
   "nbconvert_exporter": "python",
   "pygments_lexer": "ipython3",
   "version": "3.9.6"
  }
 },
 "nbformat": 4,
 "nbformat_minor": 1
}
